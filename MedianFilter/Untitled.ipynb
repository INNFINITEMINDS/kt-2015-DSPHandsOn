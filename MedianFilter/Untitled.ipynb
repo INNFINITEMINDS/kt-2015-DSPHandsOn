{
 "cells": [
  {
   "cell_type": "markdown",
   "metadata": {},
   "source": [
    "#Basic Tests: Error of the median filter and wavenumber 5 (2015.10.09 KT DW)"
   ]
  },
  {
   "cell_type": "code",
   "execution_count": 8,
   "metadata": {
    "collapsed": true
   },
   "outputs": [],
   "source": [
    "import numpy as np\n",
    "import matplotlib.pyplot as plt"
   ]
  },
  {
   "cell_type": "code",
   "execution_count": 9,
   "metadata": {
    "collapsed": true
   },
   "outputs": [],
   "source": [
    "% matplotlib inline"
   ]
  },
  {
   "cell_type": "code",
   "execution_count": 18,
   "metadata": {
    "collapsed": false
   },
   "outputs": [],
   "source": [
    "def medianSinPlot(windowLength ):\n",
    "    data = np.fromfunction( lambda x: np.sin((x-windowLength / 2)/128 * 2 * np.pi * 5), (128 + windowLength / 2, ) )\n",
    "    datafiltered = medianFilter(data, windowLength)\n",
    "    data = data[ windowLength / 2 : - windowLength ]\n",
    "    datafiltered = datafiltered[ : len(data) ]\n",
    "    errorrate = data-datafiltered\n",
    "    error = []\n",
    "    for x in range(0,windowLength):\n",
    "        error.append([x,np.mean(errorrate)])\n",
    "    plt.plot(error, marker='o', color='r', ls='') "
   ]
  },
  {
   "cell_type": "code",
   "execution_count": 19,
   "metadata": {
    "collapsed": true
   },
   "outputs": [],
   "source": [
    "def medianFilter( data, windowLength ): \n",
    "    if (windowLength < len(data)and data.ndim == 1):\n",
    "        tempret = np.zeros(len(data)-windowLength+1)\n",
    "        for c in range(0, len(tempret)):\n",
    "            tempret[c] = np.median( data[ c : c + windowLength ] )\n",
    "        return tempret\n",
    "    else:\n",
    "         raise ValueError(\"windowLength must be smaller than len(data) and data must be a 1D array\")"
   ]
  },
  {
   "cell_type": "code",
   "execution_count": 20,
   "metadata": {
    "collapsed": false
   },
   "outputs": [
    {
     "data": {
      "image/png": "[encoded data removed]",
      "text/plain": [
       "<matplotlib.figure.Figure at 0xa9ab4e0>"
      ]
     },
     "metadata": {},
     "output_type": "display_data"
    }
   ],
   "source": [
    "for y in range (0,14):\n",
    "    medianSinPlot(y)"
   ]
  },
  {
   "cell_type": "code",
   "execution_count": null,
   "metadata": {
    "collapsed": true
   },
   "outputs": [],
   "source": []
  }
 ],
 "metadata": {
  "kernelspec": {
   "display_name": "Python 2",
   "language": "python",
   "name": "python2"
  },
  "language_info": {
   "codemirror_mode": {
    "name": "ipython",
    "version": 2
   },
   "file_extension": ".py",
   "mimetype": "text/x-python",
   "name": "python",
   "nbconvert_exporter": "python",
   "pygments_lexer": "ipython2",
   "version": "2.7.10"
  }
 },
 "nbformat": 4,
 "nbformat_minor": 0
}
