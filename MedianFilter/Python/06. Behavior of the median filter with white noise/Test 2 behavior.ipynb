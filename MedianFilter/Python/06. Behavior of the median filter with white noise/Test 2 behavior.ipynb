{
 "cells": [
  {
   "cell_type": "markdown",
   "metadata": {},
   "source": [
    "#Behavior of the median filter with white noise"
   ]
  },
  {
   "cell_type": "markdown",
   "metadata": {},
   "source": [
    "## DW(2015.11.11)"
   ]
  },
  {
   "cell_type": "code",
   "execution_count": 43,
   "metadata": {
    "collapsed": true
   },
   "outputs": [],
   "source": [
    "import numpy as np\n",
    "import matplotlib.pyplot as plt\n",
    "from matplotlib.backends.backend_pdf import PdfPages\n",
    "from scipy.signal import medfilt\n",
    "import sys\n",
    "# Add a new path with needed .py files.\n",
    "sys.path.insert(0, 'C:\\Users\\Dominik\\Documents\\GitRep\\kt-2015-DSPHandsOn\\MedianFilter\\Python') \n",
    "\n",
    "import functions\n",
    "import gitInformation"
   ]
  },
  {
   "cell_type": "code",
   "execution_count": 3,
   "metadata": {
    "collapsed": true
   },
   "outputs": [],
   "source": [
    "%matplotlib inline"
   ]
  },
  {
   "cell_type": "code",
   "execution_count": null,
   "metadata": {
    "collapsed": false
   },
   "outputs": [],
   "source": [
    "gitInformation.printInformation()"
   ]
  },
  {
   "cell_type": "markdown",
   "metadata": {},
   "source": [
    "## All needed arrays"
   ]
  },
  {
   "cell_type": "code",
   "execution_count": 227,
   "metadata": {
    "collapsed": true
   },
   "outputs": [],
   "source": [
    "# Sine wave, 16 wave numbers, 16*128 samples  \n",
    "x = np.linspace(0, 2, 16*128)\n",
    "data = np.sin(16*np.pi*x)\n",
    "# Different noises with Standard deviation (spread or \"width\") 0.1 will be saved in\n",
    "# so we have a signal/noise ration = 10\n",
    "diff_noise = np.zeros((140,len(data)))\n",
    "# Noised sine waves. \n",
    "noised_sines = np.zeros((140,len(data)))\n",
    "# Median filtered wave.\n",
    "medfilter = np.zeros((140,len(data)))\n",
    "# Filtered sine waves (noised_sines - medfilter)\n",
    "filtered_sines = np.zeros((140,len(data)))\n",
    "# Behavior of the median filter. Save the max values of the filtered waves in it.\n",
    "behav = np.zeros(140)\n",
    "# Needed to get all points at the same x value.\n",
    "windowLength = np.zeros(140)\n",
    "SN = np.zeros(140)"
   ]
  },
  {
   "cell_type": "markdown",
   "metadata": {},
   "source": [
    "##Caculate all needed arrays"
   ]
  },
  {
   "cell_type": "code",
   "execution_count": 230,
   "metadata": {
    "collapsed": false
   },
   "outputs": [
    {
     "ename": "KeyboardInterrupt",
     "evalue": "",
     "output_type": "error",
     "traceback": [
      "\u001b[1;31m---------------------------------------------------------------------------\u001b[0m",
      "\u001b[1;31mKeyboardInterrupt\u001b[0m                         Traceback (most recent call last)",
      "\u001b[1;32m<ipython-input-230-1677edcc1263>\u001b[0m in \u001b[0;36m<module>\u001b[1;34m()\u001b[0m\n\u001b[0;32m      7\u001b[0m             \u001b[0mnoised_sines\u001b[0m\u001b[1;33m[\u001b[0m\u001b[0mi\u001b[0m\u001b[1;33m,\u001b[0m \u001b[1;33m:\u001b[0m\u001b[1;33m]\u001b[0m \u001b[1;33m=\u001b[0m \u001b[0mdata\u001b[0m \u001b[1;33m+\u001b[0m \u001b[0mdiff_noise\u001b[0m\u001b[1;33m[\u001b[0m\u001b[0mi\u001b[0m\u001b[1;33m,\u001b[0m \u001b[1;33m:\u001b[0m\u001b[1;33m]\u001b[0m\u001b[1;33m\u001b[0m\u001b[0m\n\u001b[0;32m      8\u001b[0m             \u001b[1;31m# Filter each sine wave and save the result.\u001b[0m\u001b[1;33m\u001b[0m\u001b[1;33m\u001b[0m\u001b[0m\n\u001b[1;32m----> 9\u001b[1;33m             \u001b[0mmedfilter\u001b[0m\u001b[1;33m[\u001b[0m\u001b[0mi\u001b[0m\u001b[1;33m,\u001b[0m \u001b[1;33m:\u001b[0m\u001b[1;33m]\u001b[0m \u001b[1;33m=\u001b[0m \u001b[0mmedfilt\u001b[0m\u001b[1;33m(\u001b[0m\u001b[0mnoised_sines\u001b[0m\u001b[1;33m[\u001b[0m\u001b[0mi\u001b[0m\u001b[1;33m,\u001b[0m \u001b[1;33m:\u001b[0m\u001b[1;33m]\u001b[0m\u001b[1;33m,\u001b[0m \u001b[0mw\u001b[0m\u001b[1;33m)\u001b[0m\u001b[1;33m\u001b[0m\u001b[0m\n\u001b[0m\u001b[0;32m     10\u001b[0m             \u001b[1;31m# Subtract noised and filtered wave.\u001b[0m\u001b[1;33m\u001b[0m\u001b[1;33m\u001b[0m\u001b[0m\n\u001b[0;32m     11\u001b[0m             \u001b[0mfiltered_sines\u001b[0m\u001b[1;33m[\u001b[0m\u001b[0mi\u001b[0m\u001b[1;33m,\u001b[0m \u001b[1;33m:\u001b[0m\u001b[1;33m]\u001b[0m \u001b[1;33m=\u001b[0m \u001b[0mnoised_sines\u001b[0m\u001b[1;33m[\u001b[0m\u001b[0mi\u001b[0m\u001b[1;33m,\u001b[0m \u001b[1;33m:\u001b[0m\u001b[1;33m]\u001b[0m \u001b[1;33m-\u001b[0m \u001b[0mmedfilter\u001b[0m\u001b[1;33m[\u001b[0m\u001b[0mi\u001b[0m\u001b[1;33m,\u001b[0m \u001b[1;33m:\u001b[0m\u001b[1;33m]\u001b[0m\u001b[1;33m\u001b[0m\u001b[0m\n",
      "\u001b[1;31mKeyboardInterrupt\u001b[0m: "
     ]
    }
   ],
   "source": [
    "for x in range(1,11):\n",
    "    for w in range (1,450, 32):\n",
    "        for i in range (len(diff_noise)):\n",
    "            # Adding noise to each line\n",
    "            diff_noise[i, :] = np.random.normal(0, x/10., len(data))\n",
    "            # Adding a noised sine wave to each line.\n",
    "            noised_sines[i, :] = data + diff_noise[i, :]\n",
    "            # Filter each sine wave and save the result.\n",
    "            medfilter[i, :] = medfilt(noised_sines[i, :], w)\n",
    "            # Subtract noised and filtered wave.\n",
    "            filtered_sines[i, :] = noised_sines[i, :] - medfilter[i, :]\n",
    "            # Save the behavior of the median filter.\n",
    "            behav[i] = np.mean(np.abs(filtered_sines[i, :]))"
   ]
  },
  {
   "cell_type": "markdown",
   "metadata": {},
   "source": [
    "##Figures"
   ]
  },
  {
   "cell_type": "markdown",
   "metadata": {},
   "source": [
    "### Figure 1: Plot of the behavior of the median filter with different window length and different S/N ratio"
   ]
  },
  {
   "cell_type": "code",
   "execution_count": 247,
   "metadata": {
    "collapsed": false
   },
   "outputs": [
    {
     "ename": "IndexError",
     "evalue": "index 25 is out of bounds for axis 0 with size 25",
     "output_type": "error",
     "traceback": [
      "\u001b[1;31m---------------------------------------------------------------------------\u001b[0m",
      "\u001b[1;31mIndexError\u001b[0m                                Traceback (most recent call last)",
      "\u001b[1;32m<ipython-input-247-961adfe14499>\u001b[0m in \u001b[0;36m<module>\u001b[1;34m()\u001b[0m\n\u001b[0;32m     21\u001b[0m         \u001b[1;31m# filtered waves.\u001b[0m\u001b[1;33m\u001b[0m\u001b[1;33m\u001b[0m\u001b[0m\n\u001b[0;32m     22\u001b[0m         \u001b[0mmean\u001b[0m \u001b[1;33m=\u001b[0m \u001b[0mnp\u001b[0m\u001b[1;33m.\u001b[0m\u001b[0mmean\u001b[0m\u001b[1;33m(\u001b[0m\u001b[0mbehav\u001b[0m\u001b[1;33m)\u001b[0m\u001b[1;33m\u001b[0m\u001b[0m\n\u001b[1;32m---> 23\u001b[1;33m         \u001b[0mvalues\u001b[0m\u001b[1;33m[\u001b[0m\u001b[0mcount\u001b[0m\u001b[1;33m]\u001b[0m \u001b[1;33m=\u001b[0m \u001b[0mmean\u001b[0m\u001b[1;33m\u001b[0m\u001b[0m\n\u001b[0m\u001b[0;32m     24\u001b[0m         \u001b[0max\u001b[0m \u001b[1;33m=\u001b[0m \u001b[0mplt\u001b[0m\u001b[1;33m.\u001b[0m\u001b[0msubplot\u001b[0m\u001b[1;33m(\u001b[0m\u001b[1;36m2\u001b[0m\u001b[1;33m,\u001b[0m\u001b[1;36m5\u001b[0m\u001b[1;33m,\u001b[0m\u001b[0mx\u001b[0m\u001b[1;33m)\u001b[0m\u001b[1;33m\u001b[0m\u001b[0m\n\u001b[0;32m     25\u001b[0m         \u001b[0mplt\u001b[0m\u001b[1;33m.\u001b[0m\u001b[0maxis\u001b[0m\u001b[1;33m(\u001b[0m\u001b[1;33m[\u001b[0m\u001b[1;36m0\u001b[0m\u001b[1;33m,\u001b[0m \u001b[0mw\u001b[0m\u001b[1;33m+\u001b[0m\u001b[1;36m2\u001b[0m\u001b[1;33m,\u001b[0m \u001b[1;36m0\u001b[0m\u001b[1;33m,\u001b[0m \u001b[1;36m1.3\u001b[0m\u001b[1;33m]\u001b[0m\u001b[1;33m)\u001b[0m\u001b[1;33m\u001b[0m\u001b[0m\n",
      "\u001b[1;31mIndexError\u001b[0m: index 25 is out of bounds for axis 0 with size 25"
     ]
    },
    {
     "data": {
      "image/png": "[encoded data removed]",
      "text/plain": [
       "<matplotlib.figure.Figure at 0x2dcaa278>"
      ]
     },
     "metadata": {},
     "output_type": "display_data"
    }
   ],
   "source": [
    "values = np.zeros(25)\n",
    "fig = plt.figure(figsize=(25,5))\n",
    "for x in range(1,11):\n",
    "    for w in range (1,150, 32):\n",
    "        count = count + 1\n",
    "        for i in range (len(diff_noise)):\n",
    "            # Adding noise to each line\n",
    "            diff_noise[i, :] = np.random.normal(0, x/10., len(data))\n",
    "            # Adding a noised sine wave to each line.\n",
    "            noised_sines[i, :] = data + diff_noise[i, :]\n",
    "            # Filter each sine wave and save the result.\n",
    "            medfilter[i, :] = medfilt(noised_sines[i, :], w)\n",
    "            # Subtract noised and filtered wave.\n",
    "            filtered_sines[i, :] = noised_sines[i, :] - medfilter[i, :]\n",
    "            # Save the behavior of the median filter.\n",
    "            behav[i] = np.mean(np.abs(filtered_sines[i, :]))\n",
    "            # Generate an array with same numbers, so all points\n",
    "            # are plotted for the same x value.\n",
    "            windowLength[i] = w\n",
    "        # Cacluate the mean of the behavior from all calculated\n",
    "        # filtered waves.\n",
    "        mean = np.mean(behav)\n",
    "        values[count] = mean\n",
    "        ax = plt.subplot(2,5,x)\n",
    "        plt.axis([0, w+2, 0, 1.3])\n",
    "        xticks = np.arange(0, w + 1, 128)\n",
    "        ax.set_xticks(xticks)\n",
    "        x_label = [r\"${%s\\pi}$\" % (2*v) for v in range(0, len(xticks))]\n",
    "        ax.set_xticklabels(x_label)\n",
    "        #plt.scatter(w,mean, color = 'red')\n",
    "    plt.plot(values, 'or-')\n",
    "    plt.xlabel((\"Signal to noise ration = \" + str(11-x)), fontsize = 18)\n",
    "#plt.savefig('Behavior.png', dpi = 300)"
   ]
  },
  {
   "cell_type": "markdown",
   "metadata": {},
   "source": [
    "### Figure 2: Plot of the behavior of the median filter with given window Length and different S/N ratio"
   ]
  },
  {
   "cell_type": "code",
   "execution_count": 226,
   "metadata": {
    "collapsed": false
   },
   "outputs": [
    {
     "data": {
      "image/png": "[encoded data removed]",
      "text/plain": [
       "<matplotlib.figure.Figure at 0x210f2dd8>"
      ]
     },
     "metadata": {},
     "output_type": "display_data"
    }
   ],
   "source": [
    "# Plotting the behavior with given window length and different SN-Ratio\n",
    "w = 65\n",
    "for x in range(1,11):\n",
    "    for i in range (len(diff_noise)):\n",
    "        diff_noise[i, :] = np.random.normal(0, x/10., len(data))\n",
    "        noised_sines[i, :] = data + diff_noise[i, :]\n",
    "        medfilter[i, :] = medfilt(noised_sines[i, :], w)\n",
    "        filtered_sines[i, :] = noised_sines[i, :] - medfilter[i, :]\n",
    "        behav[i] = np.mean(np.abs(filtered_sines[i, :]))\n",
    "        SN[i] = 11-x\n",
    "    mean = np.mean(behav)\n",
    "    plt.axis([0, x+1, 0, 1.3])\n",
    "    plt.scatter(11-x,mean, color = 'red', lw = 0)"
   ]
  },
  {
   "cell_type": "code",
   "execution_count": 260,
   "metadata": {
    "collapsed": false
   },
   "outputs": [
    {
     "data": {
      "text/plain": [
       "[<matplotlib.lines.Line2D at 0x39cad748>]"
      ]
     },
     "execution_count": 260,
     "metadata": {},
     "output_type": "execute_result"
    },
    {
     "data": {
      "image/png": "[encoded data removed]",
      "text/plain": [
       "<matplotlib.figure.Figure at 0x2e27b3c8>"
      ]
     },
     "metadata": {},
     "output_type": "display_data"
    }
   ],
   "source": [
    "values = np.zeros(16)\n",
    "fig = plt.figure(figsize=(25,5))\n",
    "count = 0\n",
    "for w in range (1,450, 32):\n",
    "    count = count + 1\n",
    "    for i in range (len(diff_noise)):\n",
    "            diff_noise[i, :] = np.random.normal(0, 0.1, len(data))\n",
    "            noised_sines[i, :] = data + diff_noise[i, :]\n",
    "            medfilter[i, :] = medfilt(noised_sines[i, :], w)\n",
    "            filtered_sines[i, :] = noised_sines[i, :] - medfilter[i, :]\n",
    "            behav[i] = np.mean(np.abs(filtered_sines[i, :]))\n",
    "    mean = np.mean(behav)\n",
    "    values[count] = mean\n",
    "plt.plot(values, '.r-')"
   ]
  },
  {
   "cell_type": "code",
   "execution_count": null,
   "metadata": {
    "collapsed": true
   },
   "outputs": [],
   "source": []
  }
 ],
 "metadata": {
  "kernelspec": {
   "display_name": "Python 2",
   "language": "python",
   "name": "python2"
  },
  "language_info": {
   "codemirror_mode": {
    "name": "ipython",
    "version": 2
   },
   "file_extension": ".py",
   "mimetype": "text/x-python",
   "name": "python",
   "nbconvert_exporter": "python",
   "pygments_lexer": "ipython2",
   "version": "2.7.10"
  }
 },
 "nbformat": 4,
 "nbformat_minor": 0
}
