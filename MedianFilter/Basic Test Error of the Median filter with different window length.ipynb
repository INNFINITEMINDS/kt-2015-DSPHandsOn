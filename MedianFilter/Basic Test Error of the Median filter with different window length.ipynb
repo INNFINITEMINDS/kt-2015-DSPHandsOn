{
 "cells": [
  {
   "cell_type": "markdown",
   "metadata": {},
   "source": [
    "# Basic Tests: Error of the median filter with different window lengths and wave number 5"
   ]
  },
  {
   "cell_type": "markdown",
   "metadata": {},
   "source": [
    "##2015.10.09 DW"
   ]
  },
  {
   "cell_type": "markdown",
   "metadata": {},
   "source": [
    "What am I trying to do here"
   ]
  },
  {
   "cell_type": "code",
   "execution_count": 1,
   "metadata": {
    "collapsed": true
   },
   "outputs": [],
   "source": [
    "import numpy as np\n",
    "import matplotlib.pyplot as plt\n",
    "from matplotlib.backends.backend_pdf import PdfPages"
   ]
  },
  {
   "cell_type": "code",
   "execution_count": 2,
   "metadata": {
    "collapsed": true
   },
   "outputs": [],
   "source": [
    "% matplotlib inline"
   ]
  },
  {
   "cell_type": "markdown",
   "metadata": {},
   "source": [
    "##Functions"
   ]
  },
  {
   "cell_type": "code",
   "execution_count": 3,
   "metadata": {
    "collapsed": false
   },
   "outputs": [],
   "source": [
    "def ErrorPlot(wavenumber, windowLength):\n",
    "    #add the sine wave and the median filtered wave\n",
    "    data = np.fromfunction( lambda x: np.sin((x-windowLength / 2)/128 * 2 * np.pi * 5), (128 + windowLength / 2, ) )\n",
    "    datafiltered = medianFilter(data, windowLength)\n",
    "    #synchronise both waves and make sure that both arrays have the same length\n",
    "    data = data[ windowLength / 2 : - windowLength ]\n",
    "    datafiltered = datafiltered[ : len(data) ]\n",
    "    error = ErrorRate(data,datafiltered,windowLength)\n",
    "    plt.axis([0, y + 1, 0, 1])\n",
    "    plt.xlabel('Window length', fontsize = 20)\n",
    "    plt.ylabel('Error rate', fontsize = 20)\n",
    "    plt.scatter(*error)"
   ]
  },
  {
   "cell_type": "code",
   "execution_count": 4,
   "metadata": {
    "collapsed": false
   },
   "outputs": [],
   "source": [
    "def ErrorRate(data, datafiltered, windowLength):\n",
    "    #calculate the difference between the sine wave and the filtered wave\n",
    "    errorrate = data-datafiltered\n",
    "    #creating a list and save the error rate (y) and window length (x) in it\n",
    "    error = []\n",
    "    errorrate = np.abs(errorrate)\n",
    "    error.append([windowLength ,np.mean(errorrate)])\n",
    "    #zip the error list\n",
    "    error = zip(*error)\n",
    "    return error"
   ]
  },
  {
   "cell_type": "code",
   "execution_count": 5,
   "metadata": {
    "collapsed": true
   },
   "outputs": [],
   "source": [
    "def medianFilter( data, windowLength ): \n",
    "    if (windowLength < len(data)and data.ndim == 1):\n",
    "        #creating an empty liste where the median filtered values will be saved in\n",
    "        tempret = np.zeros(len(data)-windowLength+1)\n",
    "        #check if the window length is even to solve the synchronization problem\n",
    "        if windowLength % 2 == 0:\n",
    "            for c in range(0, len(tempret)):\n",
    "                tempret[c] = np.median( data[ c : c + windowLength + 1 ] )\n",
    "            return tempret\n",
    "        else:\n",
    "            for c in range(0, len(tempret)):\n",
    "                tempret[c] = np.median( data[ c : c + windowLength ] )\n",
    "            return tempret\n",
    "    else:\n",
    "         raise ValueError(\"windowLength must be smaller than len(data) and data must be a 1D array\")"
   ]
  },
  {
   "cell_type": "markdown",
   "metadata": {},
   "source": [
    "##Plotting Figures"
   ]
  },
  {
   "cell_type": "markdown",
   "metadata": {},
   "source": [
    "Hier finde ich was komisch mit parameter XXXp..."
   ]
  },
  {
   "cell_type": "code",
   "execution_count": 6,
   "metadata": {
    "collapsed": false
   },
   "outputs": [
    {
     "name": "stderr",
     "output_type": "stream",
     "text": [
      "C:\\Anaconda\\lib\\site-packages\\numpy\\core\\_methods.py:59: RuntimeWarning: Mean of empty slice.\n",
      "  warnings.warn(\"Mean of empty slice.\", RuntimeWarning)\n",
      "C:\\Anaconda\\lib\\site-packages\\numpy\\core\\_methods.py:71: RuntimeWarning: invalid value encountered in double_scalars\n",
      "  ret = ret.dtype.type(ret / rcount)\n"
     ]
    },
    {
     "data": {
      "image/png": "[encoded data removed]",
      "text/plain": [
       "<matplotlib.figure.Figure at 0xa21bf28>"
      ]
     },
     "metadata": {},
     "output_type": "display_data"
    }
   ],
   "source": [
    "fig = plt.figure()\n",
    "for y in range (0,60,2):\n",
    "        ErrorPlot(5,y)"
   ]
  },
  {
   "cell_type": "code",
   "execution_count": 14,
   "metadata": {
    "collapsed": false
   },
   "outputs": [],
   "source": [
    "pp = PdfPages( 'Error of the median filtered sine waves with different window lengths.pdf')\n",
    "pp.savefig(fig)\n",
    "pp.close()"
   ]
  }
 ],
 "metadata": {
  "kernelspec": {
   "display_name": "Python 2",
   "language": "python",
   "name": "python2"
  },
  "language_info": {
   "codemirror_mode": {
    "name": "ipython",
    "version": 2
   },
   "file_extension": ".py",
   "mimetype": "text/x-python",
   "name": "python",
   "nbconvert_exporter": "python",
   "pygments_lexer": "ipython2",
   "version": "2.7.10"
  }
 },
 "nbformat": 4,
 "nbformat_minor": 0
}
