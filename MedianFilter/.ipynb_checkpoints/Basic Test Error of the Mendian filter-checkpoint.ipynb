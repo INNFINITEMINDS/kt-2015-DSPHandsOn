{
 "cells": [
  {
   "cell_type": "markdown",
   "metadata": {},
   "source": [
    "# Basic Tests: Error of the median filter with different window lengths (2015.10.09 KT DW)"
   ]
  },
  {
   "cell_type": "code",
   "execution_count": 1,
   "metadata": {
    "collapsed": true
   },
   "outputs": [],
   "source": [
    "import numpy as np\n",
    "import matplotlib.pyplot as plt"
   ]
  },
  {
   "cell_type": "code",
   "execution_count": 2,
   "metadata": {
    "collapsed": true
   },
   "outputs": [],
   "source": [
    "% matplotlib inline"
   ]
  },
  {
   "cell_type": "code",
   "execution_count": 63,
   "metadata": {
    "collapsed": false
   },
   "outputs": [],
   "source": [
    "def medianSinPlot(windowLength ):\n",
    "    data = np.fromfunction( lambda x: np.sin((x-windowLength / 2)/128 * 2 * np.pi * 5), (128 + windowLength / 2, ) )\n",
    "    datafiltered = medianFilter(data, windowLength)\n",
    "    datanew = data[ windowLength / 2 : - windowLength ]\n",
    "    datafiltered = datafiltered[ : len(datanew) ]\n",
    "    errorrate = datanew-datafiltered\n",
    "    error = []\n",
    "    errorrate = np.abs(errorrate)\n",
    "    error.append([windowLength ,np.mean(errorrate)])\n",
    "    error = zip(*error)\n",
    "    plt.axis([0, y + 1, 0, 1])\n",
    "    plt.scatter(*error)"
   ]
  },
  {
   "cell_type": "code",
   "execution_count": 64,
   "metadata": {
    "collapsed": true
   },
   "outputs": [],
   "source": [
    "def medianFilter( data, windowLength ): \n",
    "    if (windowLength < len(data)and data.ndim == 1):\n",
    "        tempret = np.zeros(len(data)-windowLength+1)\n",
    "        if windowLength % 2 == 0:\n",
    "            for c in range(0, len(tempret)):\n",
    "                tempret[c] = np.median( data[ c : c + windowLength + 1 ] )\n",
    "            return tempret\n",
    "        else:\n",
    "            for c in range(0, len(tempret)):\n",
    "                tempret[c] = np.median( data[ c : c + windowLength ] )\n",
    "            return tempret\n",
    "    else:\n",
    "         raise ValueError(\"windowLength must be smaller than len(data) and data must be a 1D array\")"
   ]
  },
  {
   "cell_type": "code",
   "execution_count": 66,
   "metadata": {
    "collapsed": false
   },
   "outputs": [
    {
     "data": {
      "image/png": "[encoded data removed]",
      "text/plain": [
       "<matplotlib.figure.Figure at 0xa54a160>"
      ]
     },
     "metadata": {},
     "output_type": "display_data"
    }
   ],
   "source": [
    "for y in range (0,40,2):\n",
    "    medianSinPlot(y)"
   ]
  },
  {
   "cell_type": "code",
   "execution_count": null,
   "metadata": {
    "collapsed": true
   },
   "outputs": [],
   "source": []
  }
 ],
 "metadata": {
  "kernelspec": {
   "display_name": "Python 2",
   "language": "python",
   "name": "python2"
  },
  "language_info": {
   "codemirror_mode": {
    "name": "ipython",
    "version": 2
   },
   "file_extension": ".py",
   "mimetype": "text/x-python",
   "name": "python",
   "nbconvert_exporter": "python",
   "pygments_lexer": "ipython2",
   "version": "2.7.10"
  }
 },
 "nbformat": 4,
 "nbformat_minor": 0
}
