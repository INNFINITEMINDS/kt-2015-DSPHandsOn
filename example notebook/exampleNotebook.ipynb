{
 "cells": [
  {
   "cell_type": "markdown",
   "metadata": {},
   "source": [
    "# Example notebook for the Git Information file "
   ]
  },
  {
   "cell_type": "markdown",
   "metadata": {},
   "source": [
    "## DW 2015.10.2015"
   ]
  },
  {
   "cell_type": "markdown",
   "metadata": {},
   "source": [
    "This is an example Notebook to show how gitInformation works."
   ]
  },
  {
   "cell_type": "code",
   "execution_count": 1,
   "metadata": {
    "collapsed": false
   },
   "outputs": [],
   "source": [
    "# Import the gitInformartion file to your notebook\n",
    "# It's important that you have installed GitPython (pip install gitpython) and that you have a local Git repository\n",
    "import sys\n",
    "sys.path.insert(0, 'C:\\Users\\Dominik\\Documents\\GitRep\\ipython-notebook-git')\n",
    "import gitInformation"
   ]
  },
  {
   "cell_type": "code",
   "execution_count": 2,
   "metadata": {
    "collapsed": false
   },
   "outputs": [
    {
     "name": "stdout",
     "output_type": "stream",
     "text": [
      "Information about this notebook\n",
      "============================================================\n",
      "Date: 2015-10-27\n",
      "Python Version: 2.7.10 |Anaconda 2.3.0 (64-bit)| (default, May 28 2015, 16:44:52) [MSC v.1500 64 bit (AMD64)]\n",
      "Git directory: C:\\Users\\Dominik\\Documents\\GitRep\\ipython-notebook-git\\.git\n",
      "Current git SHA: ca68a89e6af4c8cfcb04aa903eef325edf3ad7dc\n",
      "Current remote: origin\n",
      "Current branch: master\n"
     ]
    }
   ],
   "source": [
    "#If your notebook is located in a git repository, you are now able to plot some informations about the notebook to verify the version.\n",
    "gitInformation.printInformation()"
   ]
  },
  {
   "cell_type": "markdown",
   "metadata": {},
   "source": [
    "As you can see, the 'printInformation' function collects all information by its own, so you dont need to set any path. "
   ]
  },
  {
   "cell_type": "code",
   "execution_count": 3,
   "metadata": {
    "collapsed": false
   },
   "outputs": [
    {
     "name": "stdout",
     "output_type": "stream",
     "text": [
      "Information about C:\\Users\\Dominik\\Documents\\GitRep\\ipython-notebook-git\\example notebook\n",
      "============================================================\n",
      "Date: 2015-10-27\n",
      "Python Version: 2.7.10 |Anaconda 2.3.0 (64-bit)| (default, May 28 2015, 16:44:52) [MSC v.1500 64 bit (AMD64)]\n",
      "Git directory: C:\\Users\\Dominik\\Documents\\GitRep\\ipython-notebook-git\\.git\n",
      "Current git SHA: ca68a89e6af4c8cfcb04aa903eef325edf3ad7dc\n",
      "Current remote: origin\n",
      "Current branch: master\n"
     ]
    }
   ],
   "source": [
    "# You're also able to set the path by your own to get the git information\n",
    "gitInformation.printInformation('C:\\Users\\Dominik\\Documents\\GitRep\\ipython-notebook-git\\example notebook')"
   ]
  },
  {
   "cell_type": "code",
   "execution_count": 4,
   "metadata": {
    "collapsed": false
   },
   "outputs": [
    {
     "name": "stdout",
     "output_type": "stream",
     "text": [
      "Current branch: master\n"
     ]
    }
   ],
   "source": [
    "# It is also possible to print single information like the current branch, Git commit sha, remote and directory\n",
    "gitInformation.printCurrentBranch()"
   ]
  },
  {
   "cell_type": "code",
   "execution_count": 5,
   "metadata": {
    "collapsed": false
   },
   "outputs": [
    {
     "name": "stdout",
     "output_type": "stream",
     "text": [
      "Current git SHA: ca68a89e6af4c8cfcb04aa903eef325edf3ad7dc\n"
     ]
    }
   ],
   "source": [
    "gitInformation.printCurrentGitSHA()"
   ]
  },
  {
   "cell_type": "code",
   "execution_count": 6,
   "metadata": {
    "collapsed": false
   },
   "outputs": [
    {
     "name": "stdout",
     "output_type": "stream",
     "text": [
      "Current remote: origin\n"
     ]
    }
   ],
   "source": [
    "gitInformation.printCurrentRemote()"
   ]
  },
  {
   "cell_type": "code",
   "execution_count": 7,
   "metadata": {
    "collapsed": false
   },
   "outputs": [
    {
     "name": "stdout",
     "output_type": "stream",
     "text": [
      "Git directory: C:\\Users\\Dominik\\Documents\\GitRep\\ipython-notebook-git\\.git\n"
     ]
    }
   ],
   "source": [
    "gitInformation.printGitDirectory()"
   ]
  }
 ],
 "metadata": {
  "kernelspec": {
   "display_name": "Python 2",
   "language": "python",
   "name": "python2"
  },
  "language_info": {
   "codemirror_mode": {
    "name": "ipython",
    "version": 2
   },
   "file_extension": ".py",
   "mimetype": "text/x-python",
   "name": "python",
   "nbconvert_exporter": "python",
   "pygments_lexer": "ipython2",
   "version": "2.7.10"
  }
 },
 "nbformat": 4,
 "nbformat_minor": 0
}
